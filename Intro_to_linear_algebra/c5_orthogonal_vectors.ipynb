{
 "cells": [
  {
   "attachments": {},
   "cell_type": "markdown",
   "metadata": {},
   "source": [
    "# Orthogonal Vectors"
   ]
  },
  {
   "attachments": {},
   "cell_type": "markdown",
   "metadata": {},
   "source": [
    "* **Orthogonal vectors** are vectors at right angles to each other (assuming non-zero norms).\n",
    "* The **dot product** of orthogonal vectors is **zero**.\n",
    "* An _n_-dimensional space has a maximum of _n_ mutually orthogonal vectors (assuming non-zero norms).  \n",
    "<br>\n",
    "* **Orthonormal vectors** are **orthogonal vectors** with a **unit norm**.  \n",
    "<br>\n",
    "* **Basis vectors** are an example of orthonormal vectors.\n",
    "* Basis vectors are a set of vectors that can be scaled to represent any vectors in given space. They usually are unit vectors centered at the origin."
   ]
  },
  {
   "cell_type": "code",
   "execution_count": 2,
   "metadata": {},
   "outputs": [],
   "source": [
    "import numpy as np"
   ]
  }
 ],
 "metadata": {
  "kernelspec": {
   "display_name": "Python 3",
   "language": "python",
   "name": "python3"
  },
  "language_info": {
   "codemirror_mode": {
    "name": "ipython",
    "version": 3
   },
   "file_extension": ".py",
   "mimetype": "text/x-python",
   "name": "python",
   "nbconvert_exporter": "python",
   "pygments_lexer": "ipython3",
   "version": "3.11.1"
  },
  "orig_nbformat": 4
 },
 "nbformat": 4,
 "nbformat_minor": 2
}
